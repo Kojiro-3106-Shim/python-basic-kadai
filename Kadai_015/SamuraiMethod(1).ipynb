{
  "nbformat": 4,
  "nbformat_minor": 0,
  "metadata": {
    "colab": {
      "provenance": []
    },
    "kernelspec": {
      "name": "python3",
      "display_name": "Python 3"
    },
    "language_info": {
      "name": "python"
    }
  },
  "cells": [
    {
      "cell_type": "code",
      "execution_count": 2,
      "metadata": {
        "colab": {
          "base_uri": "https://localhost:8080/"
        },
        "id": "Yaf_tJpyY4cD",
        "outputId": "31a18063-fe49-4580-fc5f-0985fd7609a7"
      },
      "outputs": [
        {
          "output_type": "stream",
          "name": "stdout",
          "text": [
            "侍太郎\n",
            "36\n"
          ]
        }
      ],
      "source": [
        "class Human:\n",
        "# クラス定義\n",
        "    def __init__(self,name,age):\n",
        "        self.name = name\n",
        "        self.age = age\n",
        "\n",
        "#出力メソッド定義\n",
        "    def printinto(self):\n",
        "        print(self.name)\n",
        "        print(self.age)\n",
        "\n",
        "# インスタンス化\n",
        "human = Human(\"侍太郎\",36)\n",
        "\n",
        "#メソッド呼び出し\n",
        "human.printinto()\n"
      ]
    }
  ]
}