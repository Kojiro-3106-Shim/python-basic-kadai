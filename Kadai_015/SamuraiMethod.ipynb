{
  "nbformat": 4,
  "nbformat_minor": 0,
  "metadata": {
    "colab": {
      "provenance": []
    },
    "kernelspec": {
      "name": "python3",
      "display_name": "Python 3"
    },
    "language_info": {
      "name": "python"
    }
  },
  "cells": [
    {
      "cell_type": "code",
      "execution_count": 12,
      "metadata": {
        "colab": {
          "base_uri": "https://localhost:8080/"
        },
        "id": "Yaf_tJpyY4cD",
        "outputId": "662afc07-daf1-4e24-ada1-9cb3a2d321e6"
      },
      "outputs": [
        {
          "output_type": "stream",
          "name": "stdout",
          "text": [
            "侍太郎\n",
            "36\n"
          ]
        }
      ],
      "source": [
        "class Product:\n",
        "# クラス定義\n",
        "    def __init__(self):\n",
        "        self.name = \"\"\n",
        "        self.age = 0\n",
        "\n",
        "#出力メソッド定義\n",
        "    def printinto(self):\n",
        "        print(self.name)\n",
        "        print(self.age)\n",
        "\n",
        "# インスタンス化\n",
        "human = Product()\n",
        "\n",
        "# 出力メソッド用\n",
        "human.name = \"侍太郎\"\n",
        "human.age = 36\n",
        "human.printinto()\n"
      ]
    }
  ]
}