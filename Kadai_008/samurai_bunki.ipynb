{
  "nbformat": 4,
  "nbformat_minor": 0,
  "metadata": {
    "colab": {
      "provenance": []
    },
    "kernelspec": {
      "name": "python3",
      "display_name": "Python 3"
    },
    "language_info": {
      "name": "python"
    }
  },
  "cells": [
    {
      "cell_type": "code",
      "source": [
        "var=5\n",
        "\n",
        "if var % 15==0:\n",
        "    print(\"FizzBuzz\")\n",
        "elif var % 3 ==0:\n",
        "    print(\"Fizz\")\n",
        "elif var % 5 ==0:\n",
        "    print(\"Buzz\")\n",
        "else:\n",
        "    print(\"%d\"%(var))\n",
        "\n"
      ],
      "metadata": {
        "colab": {
          "base_uri": "https://localhost:8080/"
        },
        "id": "te_fI9MM1E-F",
        "outputId": "8d3cd45d-7af6-4b1d-8c4c-72576bd5b6dd"
      },
      "execution_count": 12,
      "outputs": [
        {
          "output_type": "stream",
          "name": "stdout",
          "text": [
            "Buzz\n"
          ]
        }
      ]
    },
    {
      "cell_type": "code",
      "source": [],
      "metadata": {
        "id": "IgRXNKRJlEpx"
      },
      "execution_count": null,
      "outputs": []
    }
  ]
}