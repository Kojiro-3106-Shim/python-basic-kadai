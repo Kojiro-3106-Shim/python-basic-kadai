{
  "nbformat": 4,
  "nbformat_minor": 0,
  "metadata": {
    "colab": {
      "provenance": []
    },
    "kernelspec": {
      "name": "python3",
      "display_name": "Python 3"
    },
    "language_info": {
      "name": "python"
    }
  },
  "cells": [
    {
      "cell_type": "code",
      "execution_count": 18,
      "metadata": {
        "colab": {
          "base_uri": "https://localhost:8080/"
        },
        "id": "Yaf_tJpyY4cD",
        "outputId": "f130851e-d442-4be8-eb8c-e8c688a45cb9"
      },
      "outputs": [
        {
          "output_type": "stream",
          "name": "stdout",
          "text": [
            "大人         侍太郎 36\n",
            "大人ではない 炭次郎 16\n",
            "大人         京太郎 20\n",
            "大人ではない 無一郎 14\n",
            "大人         乱太郎 48\n"
          ]
        }
      ],
      "source": [
        "class Human:\n",
        "# クラス定義\n",
        "    def __init__(self,name,age):\n",
        "        self.name = name\n",
        "        self.age = age\n",
        "\n",
        "#出力メソッド定義\n",
        "    def check_adult(self):\n",
        "        if self.age >= 20:\n",
        "          print(f\"大人         {self.name} {(self.age)}\")\n",
        "        else:\n",
        "          print(f\"大人ではない {self.name} {(self.age)}\")\n",
        "\n",
        "# インスタンス化\n",
        "human = [\n",
        "    Human(\"侍太郎\",36),\n",
        "    Human(\"炭次郎\",16),\n",
        "    Human(\"京太郎\",20),\n",
        "    Human(\"無一郎\",14),\n",
        "    Human(\"乱太郎\",48)\n",
        "]\n",
        "\n",
        "#メソッド呼び出し\n",
        "for count in human:\n",
        "  count.check_adult()\n"
      ]
    }
  ]
}