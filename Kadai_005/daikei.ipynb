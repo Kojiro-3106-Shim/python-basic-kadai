{
  "nbformat": 4,
  "nbformat_minor": 0,
  "metadata": {
    "colab": {
      "provenance": []
    },
    "kernelspec": {
      "name": "python3",
      "display_name": "Python 3"
    },
    "language_info": {
      "name": "python"
    }
  },
  "cells": [
    {
      "cell_type": "code",
      "execution_count": 8,
      "metadata": {
        "colab": {
          "base_uri": "https://localhost:8080/"
        },
        "id": "h2hbjWXfkQjf",
        "outputId": "5bcc37fd-ea8f-4a13-ba4a-344f59d901c0"
      },
      "outputs": [
        {
          "output_type": "stream",
          "name": "stdout",
          "text": [
            "350.0cm2\n"
          ]
        }
      ],
      "source": [
        "uwabe=120\n",
        "simobe=20\n",
        "takasa=5\n",
        "kaitou=(uwabe+simobe)*takasa/2\n",
        "print (f\"{kaitou}cm2\")"
      ]
    },
    {
      "cell_type": "code",
      "source": [],
      "metadata": {
        "id": "IgRXNKRJlEpx"
      },
      "execution_count": null,
      "outputs": []
    }
  ]
}