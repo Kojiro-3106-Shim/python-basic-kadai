{
  "nbformat": 4,
  "nbformat_minor": 0,
  "metadata": {
    "colab": {
      "provenance": []
    },
    "kernelspec": {
      "name": "python3",
      "display_name": "Python 3"
    },
    "language_info": {
      "name": "python"
    }
  },
  "cells": [
    {
      "cell_type": "code",
      "execution_count": 9,
      "metadata": {
        "colab": {
          "base_uri": "https://localhost:8080/"
        },
        "id": "sj7s2jeMssws",
        "outputId": "ff37fef3-bfc2-4e3c-aa4e-c6e2c2b50449"
      },
      "outputs": [
        {
          "output_type": "stream",
          "name": "stdout",
          "text": [
            "1100.0\n"
          ]
        }
      ],
      "source": [
        "#関数処理\n",
        "def cal_total(price,tax) -> int:\n",
        "    return price*(tax+100)/100\n",
        "\n",
        "#出力処理\n",
        "print(f\"{cal_total(1000,10)}\")\n"
      ]
    }
  ]
}